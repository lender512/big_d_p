{
 "cells": [
  {
   "cell_type": "code",
   "execution_count": 1,
   "metadata": {},
   "outputs": [
    {
     "name": "stderr",
     "output_type": "stream",
     "text": [
      "/home/ubuntu/.local/lib/python3.8/site-packages/fuzzywuzzy/fuzz.py:11: UserWarning: Using slow pure-python SequenceMatcher. Install python-Levenshtein to remove this warning\n",
      "  warnings.warn('Using slow pure-python SequenceMatcher. Install python-Levenshtein to remove this warning')\n"
     ]
    }
   ],
   "source": [
    "import pandas as pd\n",
    "from fuzzywuzzy import fuzz"
   ]
  },
  {
   "cell_type": "code",
   "execution_count": 2,
   "metadata": {},
   "outputs": [
    {
     "ename": "FileNotFoundError",
     "evalue": "[Errno 2] No such file or directory: 'output/radio_imperial.txt'",
     "output_type": "error",
     "traceback": [
      "\u001b[0;31m---------------------------------------------------------------------------\u001b[0m",
      "\u001b[0;31mFileNotFoundError\u001b[0m                         Traceback (most recent call last)",
      "\u001b[1;32m/home/ubuntu/repos/test_whisper/analisis.ipynb Cell 2\u001b[0m line \u001b[0;36m2\n\u001b[1;32m      <a href='vscode-notebook-cell://ssh-remote%2B7b22686f73744e616d65223a224f4349227d/home/ubuntu/repos/test_whisper/analisis.ipynb#W1sdnNjb2RlLXJlbW90ZQ%3D%3D?line=0'>1</a>\u001b[0m \u001b[39m# load file to variable\u001b[39;00m\n\u001b[0;32m----> <a href='vscode-notebook-cell://ssh-remote%2B7b22686f73744e616d65223a224f4349227d/home/ubuntu/repos/test_whisper/analisis.ipynb#W1sdnNjb2RlLXJlbW90ZQ%3D%3D?line=1'>2</a>\u001b[0m text \u001b[39m=\u001b[39m \u001b[39mopen\u001b[39;49m(\u001b[39m'\u001b[39;49m\u001b[39moutput/radio_imperial.txt\u001b[39;49m\u001b[39m'\u001b[39;49m, \u001b[39m'\u001b[39;49m\u001b[39mr\u001b[39;49m\u001b[39m'\u001b[39;49m)\u001b[39m.\u001b[39mread()\n\u001b[1;32m      <a href='vscode-notebook-cell://ssh-remote%2B7b22686f73744e616d65223a224f4349227d/home/ubuntu/repos/test_whisper/analisis.ipynb#W1sdnNjb2RlLXJlbW90ZQ%3D%3D?line=2'>3</a>\u001b[0m \u001b[39m#print text 100 characters by 100 chracters\u001b[39;00m\n\u001b[1;32m      <a href='vscode-notebook-cell://ssh-remote%2B7b22686f73744e616d65223a224f4349227d/home/ubuntu/repos/test_whisper/analisis.ipynb#W1sdnNjb2RlLXJlbW90ZQ%3D%3D?line=3'>4</a>\u001b[0m \u001b[39mfor\u001b[39;00m i \u001b[39min\u001b[39;00m \u001b[39mrange\u001b[39m(\u001b[39m0\u001b[39m, \u001b[39mlen\u001b[39m(text), \u001b[39m100\u001b[39m):\n",
      "File \u001b[0;32m~/.local/lib/python3.8/site-packages/IPython/core/interactiveshell.py:284\u001b[0m, in \u001b[0;36m_modified_open\u001b[0;34m(file, *args, **kwargs)\u001b[0m\n\u001b[1;32m    277\u001b[0m \u001b[39mif\u001b[39;00m file \u001b[39min\u001b[39;00m {\u001b[39m0\u001b[39m, \u001b[39m1\u001b[39m, \u001b[39m2\u001b[39m}:\n\u001b[1;32m    278\u001b[0m     \u001b[39mraise\u001b[39;00m \u001b[39mValueError\u001b[39;00m(\n\u001b[1;32m    279\u001b[0m         \u001b[39mf\u001b[39m\u001b[39m\"\u001b[39m\u001b[39mIPython won\u001b[39m\u001b[39m'\u001b[39m\u001b[39mt let you open fd=\u001b[39m\u001b[39m{\u001b[39;00mfile\u001b[39m}\u001b[39;00m\u001b[39m by default \u001b[39m\u001b[39m\"\u001b[39m\n\u001b[1;32m    280\u001b[0m         \u001b[39m\"\u001b[39m\u001b[39mas it is likely to crash IPython. If you know what you are doing, \u001b[39m\u001b[39m\"\u001b[39m\n\u001b[1;32m    281\u001b[0m         \u001b[39m\"\u001b[39m\u001b[39myou can use builtins\u001b[39m\u001b[39m'\u001b[39m\u001b[39m open.\u001b[39m\u001b[39m\"\u001b[39m\n\u001b[1;32m    282\u001b[0m     )\n\u001b[0;32m--> 284\u001b[0m \u001b[39mreturn\u001b[39;00m io_open(file, \u001b[39m*\u001b[39;49margs, \u001b[39m*\u001b[39;49m\u001b[39m*\u001b[39;49mkwargs)\n",
      "\u001b[0;31mFileNotFoundError\u001b[0m: [Errno 2] No such file or directory: 'output/radio_imperial.txt'"
     ]
    }
   ],
   "source": [
    "# load file to variable\n",
    "text = open('output/radio_imperial_tiny.txt', 'r').read()\n",
    "#print text 100 characters by 100 chracters\n",
    "for i in range(0, len(text), 100):\n",
    "    print(text[i:i+100])"
   ]
  },
  {
   "cell_type": "code",
   "execution_count": null,
   "metadata": {},
   "outputs": [
    {
     "name": "stdout",
     "output_type": "stream",
     "text": [
      "El texto tiene 38042 caracteres\n",
      "El texto tiene 6585 palabras\n"
     ]
    }
   ],
   "source": [
    "print(f\"El texto tiene {len(text)} caracteres\")\n",
    "print(f\"El texto tiene {len(text.split())} palabras\")"
   ]
  },
  {
   "cell_type": "code",
   "execution_count": null,
   "metadata": {},
   "outputs": [
    {
     "data": {
      "text/html": [
       "<div>\n",
       "<style scoped>\n",
       "    .dataframe tbody tr th:only-of-type {\n",
       "        vertical-align: middle;\n",
       "    }\n",
       "\n",
       "    .dataframe tbody tr th {\n",
       "        vertical-align: top;\n",
       "    }\n",
       "\n",
       "    .dataframe thead th {\n",
       "        text-align: right;\n",
       "    }\n",
       "</style>\n",
       "<table border=\"1\" class=\"dataframe\">\n",
       "  <thead>\n",
       "    <tr style=\"text-align: right;\">\n",
       "      <th></th>\n",
       "      <th>palabra</th>\n",
       "    </tr>\n",
       "  </thead>\n",
       "  <tbody>\n",
       "    <tr>\n",
       "      <th>0</th>\n",
       "      <td>a</td>\n",
       "    </tr>\n",
       "    <tr>\n",
       "      <th>1</th>\n",
       "      <td>los</td>\n",
       "    </tr>\n",
       "    <tr>\n",
       "      <th>2</th>\n",
       "      <td>integrantes</td>\n",
       "    </tr>\n",
       "    <tr>\n",
       "      <th>3</th>\n",
       "      <td>de</td>\n",
       "    </tr>\n",
       "    <tr>\n",
       "      <th>4</th>\n",
       "      <td>la</td>\n",
       "    </tr>\n",
       "    <tr>\n",
       "      <th>...</th>\n",
       "      <td>...</td>\n",
       "    </tr>\n",
       "    <tr>\n",
       "      <th>6580</th>\n",
       "      <td>Samma</td>\n",
       "    </tr>\n",
       "    <tr>\n",
       "      <th>6581</th>\n",
       "      <td>Mara.</td>\n",
       "    </tr>\n",
       "    <tr>\n",
       "      <th>6582</th>\n",
       "      <td>In</td>\n",
       "    </tr>\n",
       "    <tr>\n",
       "      <th>6583</th>\n",
       "      <td>el</td>\n",
       "    </tr>\n",
       "    <tr>\n",
       "      <th>6584</th>\n",
       "      <td>escenario.</td>\n",
       "    </tr>\n",
       "  </tbody>\n",
       "</table>\n",
       "<p>6585 rows × 1 columns</p>\n",
       "</div>"
      ],
      "text/plain": [
       "          palabra\n",
       "0               a\n",
       "1             los\n",
       "2     integrantes\n",
       "3              de\n",
       "4              la\n",
       "...           ...\n",
       "6580        Samma\n",
       "6581        Mara.\n",
       "6582           In\n",
       "6583           el\n",
       "6584   escenario.\n",
       "\n",
       "[6585 rows x 1 columns]"
      ]
     },
     "execution_count": 5,
     "metadata": {},
     "output_type": "execute_result"
    }
   ],
   "source": [
    "df = pd.DataFrame(text.split(), columns=['palabra'])\n",
    "df"
   ]
  },
  {
   "cell_type": "code",
   "execution_count": null,
   "metadata": {},
   "outputs": [
    {
     "data": {
      "text/plain": [
       "palabra\n",
       "de            400\n",
       "la            272\n",
       "el            228\n",
       "que           213\n",
       "y             191\n",
       "             ... \n",
       "control         1\n",
       "simplifica      1\n",
       "WANG            1\n",
       "SDION           1\n",
       "escenario.      1\n",
       "Name: count, Length: 2267, dtype: int64"
      ]
     },
     "execution_count": 6,
     "metadata": {},
     "output_type": "execute_result"
    }
   ],
   "source": [
    "df[\"palabra\"].value_counts()"
   ]
  },
  {
   "cell_type": "code",
   "execution_count": null,
   "metadata": {},
   "outputs": [
    {
     "name": "stdout",
     "output_type": "stream",
     "text": [
      "75\n"
     ]
    }
   ],
   "source": [
    "print(fuzz.ratio(\"hola\", \"hole\"))"
   ]
  },
  {
   "cell_type": "code",
   "execution_count": null,
   "metadata": {},
   "outputs": [],
   "source": [
    "def fuzzy_removal(text, threshold=90):\n",
    "    filtered_words = []\n",
    "    splited_words = text.split()\n",
    "    for i in range(len(splited_words)-1):\n",
    "        score = fuzz.ratio(splited_words[i], splited_words[i+1])\n",
    "        filtered_words.append(splited_words) if score < threshold else None\n",
    "    return filtered_words\n"
   ]
  },
  {
   "cell_type": "code",
   "execution_count": null,
   "metadata": {},
   "outputs": [
    {
     "data": {
      "text/plain": [
       "' a los integrantes de la Jota de NJT, Junta Nacional de Justicia, un hecho bastante grave y lamentable, pues cuál es la connotación que hay detrás de ello, cuál es la verdadera intención del parramento nacional de tumbarse y llevarse abajo a la Junta Nacional de Justicia y a sus integrantes. Bueno, esto es lo que pasa en esta vacitación un Congreso del legitimado, un Congreso fracazado, un Congreso que no representa a nadie solamente ellos mismos, nadie más, así es, están despaltas al pueblo, están encerrados en su burbuja, sólo el importe a ellos, ellos, y nada más que ellos sus intereses, totalmente divorciados, lejos de los intereses de la población peruana. Chato favor, así es le hacen a la población en estos momentos, se sigan alejando más y más y más y más y más y más, así es, es un Congreso que está digamos lejos. Lo habizamos así elegísimos, el Congreso de la República lejos, lejos, lejos, remotamente lejos de los intereses, de los problemas de nuestro país. Esto lo que ocurre, esto lo que pasa, solamente con el Parlamento Nacional. 8 a 8, con ser los 5 minutos, 8 a 8, con ser los 5 minutos, el autoritorio, nacional en vivo y en directo, bien iniciamos la información, así es con ustedes en vivo y en directo hoy, train hoy, martes. 12 septiembre se recuerda 31 años de la caída de la captura de este sanguinario delincuente terrorista, abima el Guzman Reinozo, hace 31 años fue capturado, abima el Guzman Reinozo, quien no recuerden cidosiones de sangre violencia, por ejemplo aquí en Lima, Sur, en San Juan, en Villa María, en chorrillos, en la capital en Viel Salvador, en otras partes. Así es, recuerdo cuando en estudiantes secundaria hablamos del año 1984, 1985, aproximadamente, las ordas terroristas, como encendían con an torchas en el cerro que estaba en Tabá de Luring, este cerro lo dibujaban en la Ocia del Martío y que se podía visualizar, por ejemplo, desde la municipalidad, desde la venir álamos, desde la venir a Vallejo, la venir a Bolívar, en Viel Salvador se podía haber hacia el lado que da contablada este cerro allí, dibujaban los delincuentes terroristas, los asesinos terroristas, esta Ocia del Martío, y también aquellos años, eran hostestigos, cuando también el cerro lo me corbina el parelo tornado, el cerro de arena, que da contigo a la playa a la Paramicanasur, también de esta vista, también los delincuentes, asesinos terroristas formaban en la Ocia del Martío con an torchas, dando entender, connotaban que tenían su poderillo, que aquí eran una guaysta en todo caso, envían el Salvador en estos tiempos, finalmente poco a poco se crió el Jain, un grupo de inteligencias especial para ir poco a poco estudiando analizando y llegar a capturar a Vimal Guumán reinozo hace 31 años, que se escribía estas maneras, el inicio del fin, de este grupo terrorista armado, que cobró la vida de miles y miles de ciudadanos sinocentes, campesinos, campesinas del territorio nacional en Ayacucho, en la selve, en el centro, en el sur, en el oriente, en el norte, en la costa, miles y miles de vidas, corrió muchas ángren a causa raíz de los asesinos terroristas, hace 31 años, se capturó a Vimal Guumán reinozo, esta historia debe escribirse esta historia de estar en un libro para que lean los actuales estudiantes los colegios, para que sepan una generación que pasó en estos años, finales de los 80 y parte de los 90, que pasó, que pasó en vía el sabador con la Liedresa, María Elena Mollano, una dirigenta de base que perteneció a la feración popular de mujeres, fue promueves, fue promueve feración de popular de mujeres que también fue asesinada por los terroristas, recordemos que ella fue invitada a una apoyada en el sector uno grupo 23, está justo entre la ruta B, como la venía primero de mayo, en el parque central de este grupo se realizaba esta actividad esta apoyada, asistió mañana mollano y vinieron de manera asopresiva incursionaron estos terroristas que la metrayaron y luego cayó al suelo y dinamitano su cuerpo de María Elena Mollano, todas estas asesinatos, todas estas situaciones se recuerda en estos años, así es que la población las nuevas generaciones, nuestros hijos y las demás generaciones que vienen deben de saber claramente qué pasó en aquellos años de estar escrimido, escrito, acuñado, graficado, en libros, para la historia, para el siguiente generaciones que un día como hoy hace 31 años se capturó al cabecía criminal asesino terrorista a Vima Elgumán Rhinoso. Veintió ahora con 10 minutos, veintió ahora con 10 minutos, iniciamos la información y el nivel desempleó en el país, puede aumentar si no se que cuta un plan de estado, Carlos Castro, conozmista, mencionó los ríos que puede provocar la crisis económica en el país, si no se trata de cuadamente, Carlos Castro que no darle la importancia, la reactivación económica no se está prejudicando y eso se manifiesta a través del nivel desempleo, en primer lugar no estamos dando señales y esto es lo más importante para dar una condición favorable de la inversión, no estamos generando confianza a los operadores económicos y más a los proyectos claves, quiero que estamos aprovechando las oportunidades quizá por la falta de visión al futuro del país y el rol que jugaría a la minería la poeta de buscar un acuerdo país para que perú puede hacer primer conductor y productor de cobre, además Castro indicó que el fenómeno del niño en el país es una amenaza que tampoco tiene un plan previo y un plan después de su afectación, se debería de tradar los proyectos de inversión pública en el corto plazo estamos aprovechando en este año y el próximo de haber avanzado en educación salud y san neamiento 20 horas, 10 minutos, 20 horas, 10 minutos, más información se necesita invertir en una de cuada de la campaña de salud mucha atención esta nota, se necesita invertir en una de cuada campaña de salud, señor Padre Família, escucha esta nota esta información, señor a madre familia, escucha esta nota de información que es bastante importante, muy seria y bastante grave mucha atención sabe Mauricio, ex de cana el colegio de nutricionista del Perú, comentó que la crisis alimentaria es una ya realidad y esto está causado por la en esta habilidad económica y política, la lologianista la nutricionista Mauricio sostuvo que ha sido un año muy significativo para la alimentación en el país puesto que el nivel de nutrición ha aumentado y los casos de anemia también, hace unos días se presentó el reporte del endes de primer trimestre de este año para nosotros no ha sido sorpresa, ver que se ha incrementado la anemia, que todavía seguimos con la anemia catalogada, como un problema de salud pública más del 40 por ciento estamos en 43 puntos de 1 por ciento, esto es niño menores 5 años y quiere los recalcar que nosotros el Perú somos un país se pobre, pese a los recursos que tenemos, además Mauricio señaló que los programas sociales no cumplem una adecuada a función por la poca preparación que tienen o la caren se desciertos factores para llegar la población, un programa social que tiene una población cautiva que depende de ellos para su alimentación debería tener ser anemia sin embargo, eso no es el caso y lo que ellos ha seguir repartir sin medir los resultados, las soya populares requieren de un apoyo especializado y personalizado de la situación que no es así finalmente la nutrizionista sabe Mauricio y ni coque el gasto público debería ir justamente a la inversión de estos programas que involucraron la alimentación ya que eso depende de la salud de muchos peruanos tenemos que analizar las causas no hay promoción para combatir la anemia, estamos solo combatiendo con suplementos pero el estado sabe que hay diferentes razones por la que da la anemia y ese método no es la solución para todos los casos el estado tiene el deber de invertir en comunicación para hablar de salud de creeros la nutrizionista, bien entonces señor Padre Família, señora Madre Família, alimiente bien, alimente bien a su niño niña, está aumentando los casos de anemia, la anemia es grave, la anemia no es broma, señor señora, la anemia es grave, le da su niño y va a tener problema de aprendizaje, problema de captar idea de lectura, de comprensión de lectura, no va a querer saber nada con las matemáticas, es decir va a retrasar su desarroyos irreveral, su desarroyo cognitivo, su desarroy intelectual va a estar haber vermado por culpa de la anemia y la anemia es porque falta alimento tenemos que darle hierro, sangre y cita y gadito pescados a sules, tenemos que darle su alimento menestras, los tuberculos camote, la papa, la lluca, verdura las abas importantes hay que alimentar bien a los niños y niñas, no le lleven en su loncheiras, chisitos, frugos en cajita, gasiosa, no, eso es no es recomendable, la anemia está aumentando, y usted como sabe si un niño tiene una anemia, como lo sabe, como lo compreva, como la verifica, como la autentica, como sabe usted, como lo corrobora, tiene que ir un especialista para que le haga análise de sangre y saber qué nivel de anemia tiene que tener 0 anemia, niña, nada nada de anemia, tiene que estar bien papiadito, buena jamá, buen combo, buen riche, buen alimentación, buenos alimentos, sangre cita, así es, la anutricionista, ebe limpa una excelente licenciada, ha mencionado que si fuese, sangre cita de cuy mucho mejor, es un potente alimento para los niños, niñas y adultos, que contra resta la anemia, las angresita de cuy, así es, hagas si usted no rebusados, sangre cita de cuy, y los niños van a estar fuerte, como bastante hierro van a estar despiertos, inteligentes, vivases, alegres, comunicativos, muy, lo que haces van a estar hablando muy bien pronunciando, ticcionando, bien captando la idea, usted le dice le hablo una vez y entiende immediatamente lo que usted le menciona le comunica le traslada, le indica, así es la anemia no es juego, la anemia no es broma, la anemia es grave, señor y señores, así es, y por culpa de estas autoridades han permitido de que la anemia aumenta, así es porque no hay elimento, no hay trabajo, hay inestabilidad, así es, hay poco dinero para los hogares y no pueden comprar los alimentos, entonces se llora ni la bolarte, a ver cuál es el plan que tiene usted, no me diga que no tiene un plan bolarte contra la anemia, no saldría otra vez con alguna paiazada, el señor otaro le dice que hay plan bolarte, no lo hay, la verdad que se burla de inteligencia, los peruanos y peruanas, cuál es el plan le estrategia la contingencia, el plan y mediato, contra la anemia en el perú, cuál es, cuál es, señora presidenta Bolarte. Meintro ahora 17, minuto, meintro ahora 17, minuto, lima suena de anoticia, al día más suena de anoticias y paola al carro, pero advierte la urgencia de una mejor gestión pública, la coordinadora de investigación en la red de estudio para el desarrollo se pronunció con respecto a la situación económica que atraviesa el país, el informe producción es una verdad confirmada la caída del PBI por dos trimestre consecutivos dejando el perú en una recipción técnica, respecto a la cadena de red, comentó que los sectores que más callieron fueron pesca y mano factura, la caída sigue estando a mortiguada por el sector minero, da la operación de que ya veco de septiembre de 2022, así mismo recordó que la inversión privada sigue cayendo esto se debería a la falta de inversión privada, lo que refleja, la urgencia de una mejor gestión pública, pero también de una mejor manejo políticos que puede generar confianza más allá de las políticas económicas, por otro lado, el consumo se mantiene positivo, pero debil, a nivel de empleo, limba de toplizzana, a continuados, su recuperación de términos del total de puesto de trabajo, pero la calidad del mismo no le sigue el paso, con respecto a la falta de empleos del capítulo, que hay menos peruanos trabajando y quienes encuentran sin trabajo han dejado de buscar un puesto laboral. 20 horas, 18 minutos, 20 horas, 18 minutos vamos a agradecer a nuestro producto exclusivo, producto para las celúde de todos los peranos, hay mucho frío, hay mucho medat, hay mucha garúa, cuide su huestos articulaciones, tendón el ligamento, músculos, piel con el carthicolágeno y drolizado, 5 en 1. El carthicolácio no he realizado, 5 en 1, con quien en una gran cantidad de carcio, gran cantidad de vitaminas, a gran cantidad de vitaminas, es proteínas sin nutrientes, especialmente para todos esos dolares de reo máticos, articulares, sonores de rodilla, dolares de humbro, carrera, teros de las manos y enfermedades degenerativas, personas que no pueden caminar, personas que dependen de un vasón para poder desplazarse, personas que no pueden subirlas escaderas, por fuertes dolares de rodilla, las articulaciones en planan, se inchan y doelé, un carthicolágeno hidrolyzado, 5 en 1, hace centasones y 2 por 100 soles. Ubiquenos en avenidas se salvajejo al costado de la financiera proempresa, del nivel 940, 873,066, o al 990,008,185, 940,873,066, o al 990,007. En los rees, 20 horas con disino de minuto, 20 horas, 10,9 minutos, lima su reglano, tícias, arradio, imperial dos, 14,40, un módulada, o orgulloso de ser peruanos. Y continuamos con más información para ustedes, más información, y el 85% empresas buscan crementar su presupuesto para digitalización. La compañía pondrán mayor foco, en su formación digital, es un negocio, como consecuencia, la creciente competitividad del mercado. La compañía tiene previsto continuar fortaleciendo la transformación digital de su negocio. El del 85% de las empresas incrementarán sus presupuestos destinados a la digitalización para el cierre 2013, la encuesta de Adoptión Digital, Ispan 2022 realizada por movistar empresas. En ese sentido, el estudio indica que para fines del año del 71% de las empresas planéas y volvieronar su conectividad de red a través de soluciones SD1. A fin de mejorar su cuestión reducir la latencia y optimizar costos de operación. La tecnología SDION WANG simplifica el control y agestión de infraestructuras de red permitiendo administrar de manera centralizada, todo sus componentes a través de una sola plataforma. Las compañías, además, de continuar optando por un modelo trabajo híbrido, viene incrementando el número de aplicaciones que usan apps móviles apps de data center. Estas se vuelven cada vez más complejas y necesarias, porque hacen el procedimiento de datos más eficientes, a firmó Sergio Vera, Geren Te Marketing y Producto de Movistar empresas. Veintió ahora a 20 minutos, 20 horas, 20 minutos, expectativas se presaría de mejora en fece a la insertidumbre. En el muy corto plazo, la confianza se recupera, pero lentamente según encuestas de expectativas más económicas del BCR. Los índices de expectativas empresariales de agosto, mostrarán un leve mejora, sobre la percepción de las organizaciones de su situación actual, así como de sus expectativas, de muy corto plazo a 3 meses. No obstante sobre lo que les de para para el próximo año, expectativas a 12 meses, los datos dan cuenta de que persisten la insertidumbre. Estos cercatas en cuesta, expectativas, más coelconómica del Banco Central de la Serba BCR publicada recientemente. La percepción de las empresas o la situación actual del negocio ventas, producción de manda, fórdeles de compra y día de inventarios, en el sexto, así como el expectativas, a 3 meses viene mejorando, pero en forma muy lenta, dijo Victor Fuentes, Economista, que fue del IP. Más información, 20 horas, 20 minutos, 20 minutos, la actiotea nepotense a moverle con Omíandina, los quesos más durados permite generar mayor rentabilidad, pequeño productores, la demanda mundial por producto elaborados, a partir a leche, sin vencer, presenta, una gran oportunidad de desarrollo para la producción, de la región al interior del país, y hace habizoraron caminos prometedores, en las comunidades, Andinas, es tradicional la producción artesanal de quesos, mayormente el tipo fresco, que es para una rápida un rápido consumo, sin embargo, la venta e leche fresca o la producción de quesos frescos, no otorgan mayor estabilidad a los pequeños productores, de la región Andina, por ello desde el gobierno, a través de ministerio de desarrollo, de ver el riesgo miagri, se impulsa la producción de quesos madurados, los cuales toma más tiempo antes a leer, a la venta al público, se pueden conservar durante más tiempo para su consumo y genera mayor rentabilidad económica, porque llega a triplicar el precio de un queso fresco, a nivel mundial, el mercado del acto, que incluye la leche, quesos, yo gur, y otros productos, en el 2020, movilizó la astronómica suma de 77.000 349 millones de dólares, cantidad superior, al 0.7% respecto al año previo, nueva Zelanda fue el principal proveedor mundial, con el 13.4% del total, que fue de 10.157 millones de dólares, a cemismo alemania fue el principal comprador mundial, de productos latios con 9.8% del total, que decir compró 7.594 millones de dólares en productos latios al mundo. Seguido de China, 7.5%, Francia 4.9%, según la asociación de exportadores ADX. Más información, veintió ahora como 18.24 minutos, veintió ahora 24 minutos, pero inversión provee de cartera vial por 1.300 millones de dólares. La gente busca atraer empresas internacionales interesadas en invertir en 2 proyectos en Perú, un ferrocarril y una carretera, la gente promoción de la inversión privada por inversión, envió una delegación especial a Madrid en España, para sostener una serie reunión y bilaterales con empresas de dicho país que invierten en 2 proyectos viales en Perú que tiene previsto ser acudicados al cierre de los 1.23 ambas iniciativas de inversión, requieren un desenbolso estimado de 13.300 millones de dólares, descontando el impuesto general a la venta, así que ve presidó por inversión. El primer proyecto de intrede por que proinversión pronera es la modernización del ferrocarril, Juan Callo Juan Cabelica, mejor conocido como Trengmacho, cuya inversión estimada está fijada en 340 millones de dólares. Será un impulso significativo, palesarroyos, socio-corómicos, las regiones de juní en Juan Cabelica, que este proyecto desarrollará aún más el potencial turístico de el becuario de la zona, al mismo tiempo que fácilitará el acceso de la población al servicio de salud, educación, empleo de comercio, índico, la agencia de tal. La otra iniciativa se trata de la carretera, longitudinal de la Sierra, tramo 4, cuya inversión estimada, supera, los 970 millones de dólares, de acuerdo a proinversión. Veintió ahora con 26 minutos, el ahorro en todo el país, vamos a escuchar ahora el reporte policial desde la dirección de comunicación imagen institucional de la policía nacional, pero diariamente son cansas reporte policial, ahora en la voz de Victor Sengmacho, su oficial de primera. A adelante, en la policía nacional de Perú, en las últimas horas, en Abankai, custodio de la Unidad de Protección de Carretera, así de la Irándrom, de comizar a 1508 paquetas rectángulares, tipo de adrello, que al ser sometidos de la prueba de campo, diero un positivo como alcalde de Cocaina, la intervención fue que el 1,4 de la Vía Juan Cabamba, donde realizara registro la droga fue ya en compartimientos tipo caletas de un furgón, que tenía como destino la Ciárez Cusco, tres sujetos que se encontraban a bordo del vehículo, fueron detenidos para las investigaciones del A. Mientras tengo que ya ley, como resultado de los operativos de interdicción terrestre, personal de la división de maniobras contra el tráfico de drogas, destruyeron e inamilitaron dos pistas de la tarriz Ságe-Clan Destinas, ubicados en el centro poblado Seyland de la Provincia de Atalaya, las habilitaciones de estas pistas eran utilizadas por organizaciones criminales de edicas, a transportar drogas en aviones con destino a Bolivia. Y por otro lado en Pucalpa, a gente del orden de la región, intervenieron a tres presuntos integrantes de la banda criminal, los sorbilleros de todos, merso señal delito contra el patrimonio y la modalidad de marcaje y rege, durante la intervención se les incomodo una pizola basesida. Y para finalizar en nuestra capital, a gente de la dirección de investigación criminal, intervenieron a Alias Tom, peligroso interante de la banda a los PPS en Juan de Lurigancho, el mismo que se encontrarían merso en caso de por delito contra el patrimonio y la modalidad de Asalto y Robo, y que además presentan de sedentes por diferentes delitos. La intervención se efectuó en la organización de Alias En San Juan de Lurigancho, a realizar el registro personal, y se la yo y su poder un revolver abastecido contra escartuchos, asimismo se le encontró se siente en multarios al parecer de pasta básica de gocaina y dos bolsitas al parecer de marihuana. Policía Nacional de Perú, trabajando por la seguridad de los seanos, hasta que es reporte policial y informó en Victor Sengmache, desde la dirección de comunicación e imágenes institucional de la Policía Nacional de Perú, adelante estudios. Bien, muchas gracias, muchas gracias a Victor Sengmache, su oficial de primera que nos alcasó el reporte policial. Ahora en el país, 20 horas de minuto, 20 horas de minuto, la hora de territorio nacional, continuamos con manuticias y las unadas, afirma que los ingresos tributarios alcanzaron los 11.2079 millones de solis, en agosto se recaudaron, 4.3 millones por impuesto a la renta, lo que representa una diminución del 9,9% en comparación con el mismo mes de la año 2022, la recaudación de agosto de los mil 23 alcanzó 11.279 millones de solis de ingresos tributarios del gobierno central neto, descontando las devoluciones de impuestos, informó la suprendendencia Nacional de Aduanas y Amitación tributaria de la ciudad de Aduanas, dicho resultado, puede condicionado por la menor dinámica económica, menones como eficiente, empleados para el cálculo de los pagos, a cuenta impuesta, a la renta y los mayores al dobar favor de los contribuyentes. En agosto se recaudaron, 4.3 millones por este concepto, lo que representa a la diminución del 9,9% en comparación con el mismo mes del año 8.22, la diminución se debió principalmente, al menor empagos, a cuenta de la 3ª categoría, tanto el régimen general, en menos 14,9%, como del régimen hip-tributario, menos 9,100%, cuarta categoría, menos 14,2%, quinta categoría, menos 5,100%, renta y sujeto, no domicilados, menos 6,6%, régimen especial, de renta, menos 5,0%, primera categoría, menos 0,2%, y otras rentas, menos 34,4%, ahora en el país, 20 horas contra el 31, mete ahora contra el 31, ahora en el país, Lima, Sur, en las noticias, en vivo, y en directo, y a través de la señal, la potente señal, la livela nacional, de radio imperial 2, 14,40, britomo, de lado, orgulloso de ser peruanos. Agradecemos al carticolaje en el realizado 5,1, señor señora, con esta humedad, cuida su rodía, cuida su articulación, su huesos, un potente producto que se llama, carticolaje no y hidrolyzado, 5,1, una maravilla, el carticolaje no hidrolyzado, 5,1, sirve especialmente para la caída del cabello, para las personas, que se le quibran las uñas, fácilmente por falta de carcio, falta de vitamina, el carticolaje no hidrolyzado, 5,1, tiene la propiedad de regenerar, arrugas prematuras, por la resequeda del cutismo, volviendo a la piel más, su adeitensa, para las estrellas, para la menopausia, para deportistas, genera y fortalecer, circulaciones, cartilagos, indones, nervios, músculos y piel, no hay ningún producto en el mundo, que sea mejor, que el carticolaje no hidrolyzado, 5,1, recuerde que con la promoción lleve un carticolaje no hidrolyzado, 5,1, te 400 gramos, hace tentasoles, y 2, por 100, soles, llamaya al 9,90, 0,0, 81,85, o al 9,40, 87, reintas, 6, la única dirección, esa veridad se se va a yeco, sector 3, grupo 7, manzana, en el segundo pisco, del vasar unicasa, al costado de la financiera, proempresa, a unos pasos, de la municipalidad, de Víel y Salvador, no dejes pasar esta oportunidad, y a quiere, tu carticolaje no hidrolyzado, 5,1, ubicanos en avenida se sarba yeco, al costado de la financiera, proempresa, de liberir al 9,40, 87,36, o al 9,90, 0,08, o 1,85, 9,40, o 8,73, o 66, o al 9,90, 0,00, Víel y 23, minutos, 23,33, minutos, continuamos comaza aquí en el informativo Lima, Sur en la noticia, el radio imperial 2, 14,40, blitumodulada orgulloso de ser pero a no, y en dustras al Miguel libertira 15 millones de dólares en aumentar producción, trastreinta y cinco años de fundación la emboteadora de la familia años detalló que el propósito la inversión es amplia la capacidad producción de su planta de bebidas. Dustras al Miguel compañía emboteadora peroana anunció que los próximos 3 meses invertirá 15 millones de dólares en nuestro país en Nueva Lina de producción como parte de su plan de crecimiento. La empresa de la familia años detalló que producto la inversión es amplia la capacidad producción en 30 por ciento de su planta de bebidas como la pionera con la real aguas jugos y necesidades y bebidas funcionales. Ase mí muy indicó que dicho del senbolso permitirá crear nuevos puesto de trabajo por males así como ayudar a dinamizar la economía. Estamos convencidos de que nuestro plan de inversiones ayuda a generar mayor confianza en nuestro país para que otros empresarios de inversionistas apoyen aquí y perú continues siendo el Jap de inversiones la región hace vero Jorge años fundador de industria sangre nuestro compromiso está más solido que nunca en estos 35 años de operación agregó industria sangre el cepuntó en haya cucho hace 35 años además de perú la embotea dor a opera en Chile republica dominicana Brasil y IT la inversión en perú se suma a un mundo muy parecido en republica dominicana para aumentar la línea de producción 20 horas 35 minutos veinte de las 35 minutos y el plan de integración minera busca con sensos mayor afígueró indicó que el mínen cuenta desde el míl 11 con el plan de integración minera iniciativa del estado que busca cerrar las brechas que padece el país el minister de energía y mínen a través de su reacción de sostenibilidad y articulación minera intensifica a nivel regional la acción desde capacitación y formalización del líder para cantar el involucramiento de las comunidades en el desarrollo sostenible la minera peruana sostuvo mayor afígueró a directora de esta ni distancia ministerial la minería es la principal altividad económica que mueve impulsa el desarrollo del país y que además promueve potencia a otras actividades de económica la funcionaria grego que el mínen cuenta con el plan de integración minera iniciativa del estado que busca cerrar las brechas que padece el país y que trabajada del año 2011 tenemos varios componentes capacitación como las pastantías desde el año 2011 y mujeres mágicas desde el 2019 y el taller integración minera y desarrollos sostenible dirigidos jóvenes desde el año 2019 además de taller la funcionaria que los beneficiarios se articulan con los líderes locales para divulgar los beneficios que la minería y cómo se desarrolla las pastantías se desarrollan en Lima y con espositores de varios sectores como produce el ministerio de la mujer proinversión o efa y alque en breve se sumaran se nace y el ministerio de cultura porque la actividad minera nos involucra todos y su desarrollo de beguer de la mano con todos los sectores de el estado mencionó maera figeroa funcionaria del minen lo hora que país veintió a las contra y siete minutos veintió a la trinta y siete minutos Lima Sur en la noticia a través de la potente señal de radio imperial dos 14 40 plitumodrada orgulloso de ser pero a no de las rieszas amigos amigos en vivo y en directo que va a pasar en el parlamento no cuando van a abordar el tema del presidente parlemento el señor Alejandro Soto que denuncias aivarias bastantes una copio de información es que sean revelando en esta última semana pero para cuando van a ver este tema ahora también el tema la congresista digna calle seguramente va a ver en estos días porque el tubo presentándose en diferente mejor comunicación dando a conocer de lo que estaría ocurriendo el interior del parlamento nacional y esta situación bueno finalmente decimos no pasan nada no es trey ellos no entre otro hongo no como de orongo no se van a hacer nada recordemos que lo muchasuelos todos situas se salvaron así es era para a monestarlos vender los 120 días cuatro meses sin goce de haber pero no una lea monestación y decir por te de bien nada más eso fue todo en el parlamento nacional otro hongo no como otro hongo y sí en ahí en el parlamento nacional de calificado es aprobado repudiado rechazado fracasado no representa nada el parlamento nacional de espaldas a la población así es le hace el les importa un bledo lo que dice el pueblo lo que dice las las rijones la autoridad del país en las diferentes plantamientos que hay así es este actual parlamento medio las contra y de nuevo y minutos medio y y y y y y el país se está bien estos momentos una fiesta el fútbol los vamos a descudir por un momento en un par de hongo un par de horas nada van los acudimos de de esta política del congreso bueno que está ocurriendo en nuestro territorio porque día juega la selección pero a nada algún momento nos hace sentir bien por un momento no nos hace sentir bien por un momento y juega con la porada selección de nuevo y en hoy en hoy se faltan es casi de un minuto de un minuto para que dice este encuentro en el estado de una zona de la por la segunda fecha de la Seliminatoria Lima Azure y la noticias continuamos con más información vamos a escuchar que lo que dijo el periodista se sérgilieran ayer ayer fresquito calientito lo que dijo ayer tras los diferentes hechos políticos que hay en el país este es el análisis de el periodista se sérgil de oran aquí en Lima Azure en la noticias adelante está vendo realizando el último número del seminario gilograma en sus tres y claro siempre hay un sultido en otras siempre que elegir algunas todas son importantes para mí y creo que para nuestros rectores la más llamativa es sin guarduaz la de y nos troza paría a chilse en ver buen sexto y profugüeterno que vive en Bruselas y lo hemos acabado comprando tomates comprado tomates en un mercado belga está bien está más allá del mal no lo persiguen nadie nadie es nada por capturarlo todo es cuento y encima recibe una pensión de 8 mil soles en suales del poder judicial como se fue un jubilado cualquiera ese es el poder judicial del señor Árevalo del doctor Árevalo ese es el poder judicial de y nuestros apariar y todos los cuyos blancos negros y marrones de este poder judicial archipodrido que ser al objetivo exagerado de como un al que solo usara pero que es del fotable totalmente el día que el poder judicial se adesente en el verú ese día se vemos una nación ese día abremos ascendido la categoría de país civilizado no la otra nota sin guarduaz básica de la política a eso que está haciendo lo que llamamos aquí en el seminario sin o firmísmos sin envio heráes sin subtiles el lámpaco en Grezal el lámpaco en Grezal ha decidido dar el sarpa so final sobre la Junta Nacional de Justicia claro lo hace junto al poder judicial primero hace junto al tribunal constitucional pero lo objetivo es tumbarse a la Junta Nacional de Justicia y está ya está la discusión en marcha ya está sus catócerías listo y nombrar otra nombrar otra a su medida y con esto la dictadura hipocrita que se ha ido creando y que en este programa estamos venido denunciando y que en el seminario hemos venido denunciando hace meses y a veces en soledad de poder civil bueno esa profesión entre con ellas se está cumpliendo no ser necesitas ser de ese nuevo ni sabor ni profeta ni exicero para saber qué cosa tiene el fujimorismo aliado de el serronismo dos fuerzas absolutamente cansenígenas de la política dos fuerzas en fin de los arrabales de la política pero claro me dirán cómo que los arrabales de la política pero no es un arrabal cípero el centro el centro y es el congreso quién nombra a la junta nacional de justicia de este caso a la nueva junta nacional de justicia porque casi es un hecho que esta la roja en por la ventana la definestra el defensor del pueblo y esta compravo el presidente del TC de la General de los Suíos nativo puro la fiscal de nación que la Fata es esa es este en fin la señora de capunía la fiscal de nación el controlor del Congreso de la incuentes el controlor que dice que el Congreso no está el sucurición y que el convenso se controla solito el presidente del poder judicial haré algo que dice porque no admitamos abo que el brutal y brutal a partir de la exigrecional y de cómico involuntario que el punto de vista que el que ocurre es que el judicial es un alcalde y el salador y no un braalón corte su pruebas adoc y estentes y claro, ahí está la cosa es el jurado naciendo selecciones la honte es reñe pero yo le recuerdo que somos de los años y que hemos hombre tener algún tipo de reacción que son y mande cartas ya me por teléfono muevas diga cosas en fin porque parecemos de verdad un país muerto cada verico no se están robando las instituciones del mismo que lo hicieron el 97 el dominio el frado de un video y ya que sobrepasaba todas las medidas para que en fin reaccionar a vos ¿qué necesitamos ahora para reaccionar qué quiero usted si oano el perú ¿qué necesita usted para sentir ajo? bueno ahora hace una pregunta si lo invito a hacerse a preguntar porque la verdad es que estamos al borde de la instauraación de un régimen no democrático y no se sabe cuánto va a durar y si se le asunto es el 96 o se extenderá el 2030 ¿qué? el Congreso de los delincuentes era lo que quiera con sus lovios, sus manejos, sus turvices, sus leyes con nombre propio sus universidades basuras y nosotros treinta por ciento de pobreza el niño que va producir una pequeña catástrofe económica que se suma a esta endebleza de la economía que ya padecemos y usted que así le supróme mañana a ver su fútbol muy bien no se lo rebrócho pero hombre recuerden que país está y recuerden que es su país el Congreso está en manos de una banda y la banda decidió tumbarse a la Junta Nacional de Guilla porque así lo decidió la señora que he dicho con todas las complicidades al rego suyo de ese nuevo y entonces van a tumbarse la Junta Nacional de Guistise si es que alguien no los para antes no se no ha vuelo arte que lo trobía tu expresión es abominables los mortos que se mueren solos parece a Marta Chaves pero hablando mejor que Marta Chaves porque Marta Chaves digamos tiene contenidos fatales y formas en fin más trabajadas estas señora hablamos como como le vengangana y encima dice basura los mortos que se murieron que cosa bueno ahora ahora cambiando de imagen va a visitar a la selección pero bueno de fútbol ¿cabell como dijo alguien por ahí ojalá que no la sale ojalá que no la sale señora volvarte mañana juega con Brasil y abenemos que hacemos probablemente sea el tiempo hablar de ti en la calle cuando su presidencia a poder mollo dice todo pero en tenéssese ya está listo no necesito ni currículum ni biografía ni investigación ni folionada pero tenéssese la podemos el partido de Pepe Luna la faxada del telésup de cartón y hasta dicho quién quién que va de algo quién que se quiera un poco puede pertenecer al partido de Pepe Luna si pues pero se es la bolita de la grona es ese delenco no hay más no hay más hay menos inclusive hay menos que dígneca y dice que está por debajo de dígneca que ya es decir mucho a ver de coyería si a que está o sea me despuela y que viene rogada por su jefe y que seguramente se volverá y que se vuelve si el número de bariles determinase o no la existencia de una petrolera estatal entonces el caso de Chile es increíble porque Chile produce solo 10.000 bariles cuatro veces menos que peru y tiene dos refinerías las dos estatales y son propiedades la empresa nacional de Petróleo que es Chile y es estatal y es por voyose a vender estatal y es limpiamente estatal y ni siquiera la derecha más mombia y por qué tenemos el empresa estatal es un petróleo pero la derecha nuestra es a chorada bura ahora está en el Congreso en la friscalilla de la ejecutillo en la PCM en la PTL que un mejor nombre pregunten qué porque hubiese una de los delillos etcétera es un exitoso de todas maneras y después en Francia también fue Petróleo en Alemania el petróleo en Corea el Norte el petróleo y también hay empresas petroleras las granales sí pues pero claro la derecha quiere que el peruce un país a compregar disminuido donde todo lo decide el mercado farmacía le educación todo la mano sabía la mano invisible del mercado el mercado libre de nuestros apariciones marata saludo sí hombre de siempre no estaba que no iba a ser el avucente pero no hubiese lo confirmó confirmó que o debre el entregó plata a un mal villar en aquello llevo y a García dos veces en García dos veces pero con García como está diferente el que se ociera un poco veniendo pero no pudo por el final todos sabemos pero sí dijo en dos oportunidades no se se refería de mil uno y dos mil seis cuando perdió y cuando le dimos platabra porque ya sabemos qué pasó ahí en que otras cosas, se al final de cuentas está luz nava, está el señor Atalga y está el gran receptor de la plata negra el señor Cuba, el señor Jorge Cuba, Jorge Cuba, a vista, miembro del coio que recibe el el el 8 millones de dólares, el el el el el el mediador, el el el el el el el el pasaje, pasaje caja tanbo, escuché el podcast es es al sideran en vivo todos los uluenes a las 9 de la noche, suscribete para acceder a todas las ediciones, el semanario vive únicamente de sus lectores, vilenó a la piratría y por qué nos ha oras en un banco que trata el dinero como tu, en serio, trasladate aquí para dar la palabra a nuestro compañero Gerardo Fernández, noroño Rated in 121440 om C9 neural QUE AD. Rated in 1984 La única A M con el Stagio del Volklor peruana. De ni sacio del Padre de Doros y Polkloro. Invome de acá ahora San Miguel a Canquete, Mammara. Otro daniza, centro social y mammara. 2.000 votí es el 7 de Cequimbre. In el monumental, ya guarda la Samma Mara. In el escenario.'"
      ]
     },
     "execution_count": 33,
     "metadata": {},
     "output_type": "execute_result"
    }
   ],
   "source": [
    "fuzzy = fuzzy_removal(text)"
   ]
  },
  {
   "cell_type": "code",
   "execution_count": null,
   "metadata": {},
   "outputs": [
    {
     "ename": "TypeError",
     "evalue": "sequence item 0: expected str instance, list found",
     "output_type": "error",
     "traceback": [
      "\u001b[0;31m---------------------------------------------------------------------------\u001b[0m",
      "\u001b[0;31mTypeError\u001b[0m                                 Traceback (most recent call last)",
      "\u001b[1;32m/home/ubuntu/repos/test_whisper/analisis.ipynb Cell 8\u001b[0m line \u001b[0;36m1\n\u001b[0;32m----> <a href='vscode-notebook-cell://ssh-remote%2B7b22686f73744e616d65223a224f4349227d/home/ubuntu/repos/test_whisper/analisis.ipynb#X13sdnNjb2RlLXJlbW90ZQ%3D%3D?line=0'>1</a>\u001b[0m fuzzy \u001b[39m=\u001b[39m fuzzy_removal(text)\n\u001b[1;32m      <a href='vscode-notebook-cell://ssh-remote%2B7b22686f73744e616d65223a224f4349227d/home/ubuntu/repos/test_whisper/analisis.ipynb#X13sdnNjb2RlLXJlbW90ZQ%3D%3D?line=1'>2</a>\u001b[0m \u001b[39mprint\u001b[39m(fuzzy)\n",
      "\u001b[1;32m/home/ubuntu/repos/test_whisper/analisis.ipynb Cell 8\u001b[0m line \u001b[0;36m7\n\u001b[1;32m      <a href='vscode-notebook-cell://ssh-remote%2B7b22686f73744e616d65223a224f4349227d/home/ubuntu/repos/test_whisper/analisis.ipynb#X13sdnNjb2RlLXJlbW90ZQ%3D%3D?line=4'>5</a>\u001b[0m     score \u001b[39m=\u001b[39m fuzz\u001b[39m.\u001b[39mratio(splited_words[i], splited_words[i\u001b[39m+\u001b[39m\u001b[39m1\u001b[39m])\n\u001b[1;32m      <a href='vscode-notebook-cell://ssh-remote%2B7b22686f73744e616d65223a224f4349227d/home/ubuntu/repos/test_whisper/analisis.ipynb#X13sdnNjb2RlLXJlbW90ZQ%3D%3D?line=5'>6</a>\u001b[0m     filtered_words\u001b[39m.\u001b[39mappend(splited_words) \u001b[39mif\u001b[39;00m score \u001b[39m<\u001b[39m threshold \u001b[39melse\u001b[39;00m \u001b[39mNone\u001b[39;00m\n\u001b[0;32m----> <a href='vscode-notebook-cell://ssh-remote%2B7b22686f73744e616d65223a224f4349227d/home/ubuntu/repos/test_whisper/analisis.ipynb#X13sdnNjb2RlLXJlbW90ZQ%3D%3D?line=6'>7</a>\u001b[0m \u001b[39mreturn\u001b[39;00m \u001b[39m\"\u001b[39;49m\u001b[39m \u001b[39;49m\u001b[39m\"\u001b[39;49m\u001b[39m.\u001b[39;49mjoin(filtered_words)\n",
      "\u001b[0;31mTypeError\u001b[0m: sequence item 0: expected str instance, list found"
     ]
    }
   ],
   "source": [
    "\n",
    "print(fuzzy)"
   ]
  }
 ],
 "metadata": {
  "kernelspec": {
   "display_name": "Python 3",
   "language": "python",
   "name": "python3"
  },
  "language_info": {
   "codemirror_mode": {
    "name": "ipython",
    "version": 3
   },
   "file_extension": ".py",
   "mimetype": "text/x-python",
   "name": "python",
   "nbconvert_exporter": "python",
   "pygments_lexer": "ipython3",
   "version": "3.8.10"
  }
 },
 "nbformat": 4,
 "nbformat_minor": 2
}
